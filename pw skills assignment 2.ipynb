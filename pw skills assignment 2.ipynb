{
 "cells": [
  {
   "cell_type": "raw",
   "id": "dac10b72-ef5e-42d1-95d8-13e6b5572569",
   "metadata": {},
   "source": [
    "1. What are data structures, and why are they important?\n",
    "Data structures are ways of organizing and storing data in a computer so that it can be accessed and modified efficiently. Think of them as tools or containers specifically designed to handle data in a certain way, depending on what you need to do with it."
   ]
  },
  {
   "cell_type": "raw",
   "id": "64172fcd-c50c-4c1c-b7fd-e49c51e0b1bd",
   "metadata": {},
   "source": [
    "2.  Explain the difference between mutable and immutable data types with examples?\n",
    "Mutable objects: Can be changed after creation.\n",
    "You can modify, add, or remove elements without creating a new object.\n",
    "Ex:- list, dict, set.\n",
    "    \n"
   ]
  },
  {
   "cell_type": "code",
   "execution_count": 1,
   "id": "5f7ee58c-0b1b-47bc-83f1-1e5b66f42900",
   "metadata": {},
   "outputs": [
    {
     "name": "stdout",
     "output_type": "stream",
     "text": [
      "[1, 2, 3, 4]\n"
     ]
    }
   ],
   "source": [
    "my_list = [1, 2, 3]\n",
    "my_list.append(4)  # Add element\n",
    "print(my_list)   "
   ]
  },
  {
   "cell_type": "raw",
   "id": "1e5eb5e5-db4d-4b9e-ad8f-dd5784148026",
   "metadata": {},
   "source": [
    "immutable objects : These cannot be changed after creation \n",
    "Any \"change\" actually creates a new object\n",
    "Ex:- Tuple,String,int ,float\n"
   ]
  },
  {
   "cell_type": "code",
   "execution_count": 2,
   "id": "85757abf-8f43-44d3-81c7-f14bfc1e2f51",
   "metadata": {},
   "outputs": [
    {
     "name": "stdout",
     "output_type": "stream",
     "text": [
      "JOHN\n"
     ]
    }
   ],
   "source": [
    "name = \"John\"\n",
    "name = name.upper()\n",
    "print(name)  "
   ]
  },
  {
   "cell_type": "raw",
   "id": "9dc40165-13bf-4f97-ab1c-5704ec34529e",
   "metadata": {},
   "source": [
    "3. What are the main differences between lists  and tuples in Python ?\n",
    "The main difference between tupple  is used as immutable\n",
    "List is used as mutable\n"
   ]
  },
  {
   "cell_type": "raw",
   "id": "ce91d066-9636-4b90-a53a-74c33a24eff4",
   "metadata": {},
   "source": [
    "4. Describe how dictionaries store data \n",
    "A dictionary is an unordered collection of data stored in key value pairs\n"
   ]
  },
  {
   "cell_type": "code",
   "execution_count": 3,
   "id": "9e8b3043-17e2-44b6-b30c-91943a43e40d",
   "metadata": {},
   "outputs": [],
   "source": [
    "my_dict = {\"name\": \"Alice\", \"age\": 25, \"city\": \"New York\"}"
   ]
  },
  {
   "cell_type": "raw",
   "id": "4638f71d-a8aa-4943-92c1-1f17216bb5a2",
   "metadata": {},
   "source": [
    "Keys: Unique identifiers (e.g., \"name\", \"age\")\n",
    "\n",
    "Values: The data associated with each key (e.g., \"Alice\", 25)\n",
    "\n",
    "Hashing:\n",
    "When you create a dictionary, Python uses a hash function to convert each key into a unique integer called a hash code.\n"
   ]
  },
  {
   "cell_type": "code",
   "execution_count": 4,
   "id": "caa90920-5f3c-4ea3-9a14-f44a56f26c60",
   "metadata": {},
   "outputs": [
    {
     "name": "stdout",
     "output_type": "stream",
     "text": [
      "John\n"
     ]
    }
   ],
   "source": [
    "person = {\n",
    "    \"name\": \"John\",\n",
    "    \"age\": 30,\n",
    "    \"is_student\": False\n",
    "}\n",
    "print(person[\"name\"])"
   ]
  },
  {
   "cell_type": "raw",
   "id": "534a514b-1f0c-4b4e-884e-f0fbb6df0781",
   "metadata": {},
   "source": [
    "5.Why might you use a set instead of a list in Python\n",
    "A set is a collection of unique elements, meaning it automatically removes duplicates. It also offers faster performance when checking if an item exists because it uses a hash table internally."
   ]
  },
  {
   "cell_type": "code",
   "execution_count": 5,
   "id": "d2b942bc-d0cf-49a9-be2c-e94577561972",
   "metadata": {},
   "outputs": [
    {
     "name": "stdout",
     "output_type": "stream",
     "text": [
      "{1, 2, 3}\n"
     ]
    }
   ],
   "source": [
    "my_list = [1, 2, 2, 3]\n",
    "my_set = set(my_list)\n",
    "print(my_set)  "
   ]
  },
  {
   "cell_type": "raw",
   "id": "082bbac3-662e-481c-af5e-b76fa6cec360",
   "metadata": {},
   "source": [
    "6.What is a string in Python, and how is it different from a list?\n",
    "A string is a sequence of characters, while a list is a sequence of items, which can be any type (numbers, strings, etc.).\n",
    "String is immutable: You cannot change a string after it's created.\n",
    "List is mutable: You can add, remove, or change elements."
   ]
  },
  {
   "cell_type": "raw",
   "id": "21e073fb-84eb-4fa6-9b00-f2f9d08ea5ef",
   "metadata": {},
   "source": [
    "7. How do tuples ensure data integrity in Python?\n",
    "Tuples are immutable, so once created, their values can’t be changed. This ensures that the data stored in the tuple stays constant throughout the program.\n",
    "You want to protect data from accidental modification.\n",
    "You want to use it as a dictionary key.\n",
    "\n"
   ]
  },
  {
   "cell_type": "raw",
   "id": "c5c94641-bddd-4629-935e-221015ddaac9",
   "metadata": {},
   "source": [
    "8. What is a hash table, and how does it relate to dictionaries in Python?\n",
    "A hash table is a data structure that uses hash functions to map keys to memory locations (indexes). In Python, dictionaries are implemented using hash tables.\n",
    "This allows for O(1) average time complexity for lookups, insertions, and deletions.\n"
   ]
  },
  {
   "cell_type": "raw",
   "id": "f82c0dda-69bf-4165-a6b0-bcf88e05c065",
   "metadata": {},
   "source": [
    "9. Can lists contain different data types in Python?\n",
    "Yes, Python lists are heterogeneous, meaning they can store different data types in the same list.\n",
    "Ex: int, float,string,boolean"
   ]
  },
  {
   "cell_type": "raw",
   "id": "cd388d02-0f81-49b5-ad3b-d815191834ff",
   "metadata": {},
   "source": [
    "10.Explain why strings are immutable in Python?\n",
    "Strings are immutable for several reasons:\n",
    "Security: Prevents accidental modification.\n",
    "Performance: Python can reuse string objects, saving memory.\n",
    "Hashability: Makes strings usable as keys in dictionaries."
   ]
  },
  {
   "cell_type": "raw",
   "id": "0ff28306-cd41-451f-9f1a-a3fa4115c02f",
   "metadata": {},
   "source": [
    "11. What advantages do dictionaries offer over lists for certain tasks?\n",
    "Dictionaries are great for storing key-value pairs, allowing for fast and meaningful lookups.\n",
    "\n",
    "Advantages:\n",
    "Quick access via keys\n",
    "Better for structured or labeled data"
   ]
  },
  {
   "cell_type": "code",
   "execution_count": null,
   "id": "36f7fd2f-6b55-414c-b3d2-f594aa81489f",
   "metadata": {},
   "outputs": [],
   "source": [
    "12. Describe a scenario where using a tuple would be preferable over a list.\n",
    "Use a tuple when:\n",
    "You want to return multiple values from a function.\n",
    "You need data to remain unchanged."
   ]
  },
  {
   "cell_type": "raw",
   "id": "f117779e-9834-4b90-86ff-f726211ca338",
   "metadata": {},
   "source": [
    "13. How do sets handle duplicate values in Python?\n",
    "Sets automatically remove duplicates and keep only unique values."
   ]
  },
  {
   "cell_type": "code",
   "execution_count": null,
   "id": "dafac963-0aca-4d0a-8a26-b32b73b6cf84",
   "metadata": {},
   "outputs": [],
   "source": [
    "14. How does the in keyword work differently for lists and dictionaries?\n",
    "In lists, in checks if a value exists.\n",
    "In dictionaries, in checks if a key exists.\n"
   ]
  },
  {
   "cell_type": "code",
   "execution_count": 9,
   "id": "e29d61ae-055d-4f15-a5a4-32c294281c94",
   "metadata": {},
   "outputs": [
    {
     "data": {
      "text/plain": [
       "True"
      ]
     },
     "execution_count": 9,
     "metadata": {},
     "output_type": "execute_result"
    }
   ],
   "source": [
    "\"apple\" in [\"apple\", \"banana\"]      # True\n",
    "\"age\" in {\"name\": \"Bob\", \"age\": 30} # True (checks keys, not values)"
   ]
  },
  {
   "cell_type": "raw",
   "id": "db3ddc5f-3fa8-4be1-9f48-29c4a549bc70",
   "metadata": {},
   "source": [
    "15. Can you modify the elements of a tuple? Explain why or why not.\n",
    " No, tuples are immutable, meaning once created, their elements cannot be changed."
   ]
  },
  {
   "cell_type": "raw",
   "id": "bfe6d7cd-7dca-4b91-bce5-58ebb009991b",
   "metadata": {},
   "source": [
    "16. What is a nested dictionary, and give an example of its use case?\n",
    "A nested dictionary is a dictionary within another dictionary, used to represent more complex structured data."
   ]
  },
  {
   "cell_type": "code",
   "execution_count": 12,
   "id": "262b47e8-5e10-4dad-b776-8546218f83de",
   "metadata": {},
   "outputs": [],
   "source": [
    "students = {\n",
    "    \"Alice\": {\"age\": 20, \"grade\": \"A\"},\n",
    "    \"Bob\": {\"age\": 22, \"grade\": \"B\"}\n",
    "}"
   ]
  },
  {
   "cell_type": "code",
   "execution_count": null,
   "id": "ca862618-6ff9-45fb-a33a-cbc5394317ee",
   "metadata": {},
   "outputs": [],
   "source": [
    "17. Describe the time complexity of accessing elements in a dictionary.\n",
    "Accessing a value by key in a dictionary takes O(1) time on average, due to the use of hashing.\n",
    "This makes dictionaries very efficient for lookups."
   ]
  },
  {
   "cell_type": "code",
   "execution_count": null,
   "id": "38acdd35-1c59-440a-b85c-e88152d07514",
   "metadata": {},
   "outputs": [],
   "source": [
    "18. In what situations are lists preferred over dictionaries?\n",
    "Use lists when:\n",
    "The order of items matters.\n",
    "You only need indexed data, not key-value pairs.\n",
    "Data doesn’t need labels (e.g., [5, 6, 7] instead of {day1: 5})\n"
   ]
  },
  {
   "cell_type": "raw",
   "id": "8f76f388-1a86-4f50-bdc6-5cbc1d78cb9b",
   "metadata": {},
   "source": [
    "19. Why are dictionaries considered unordered, and how does that affect data retrieval?\n",
    "Traditionally, dictionaries didn’t maintain insertion order (before Python 3.7). While modern Python preserves order, dictionaries still don't support index-based access like lists.\n",
    " Retrieval is done by key, not by position."
   ]
  },
  {
   "cell_type": "raw",
   "id": "e9bf493e-799f-4393-891e-c581ccf0ee02",
   "metadata": {},
   "source": [
    "20. Explain the difference between a list and a dictionary in terms of data retrieval\n",
    "List: Retrieve by index (numeric position)."
   ]
  },
  {
   "cell_type": "code",
   "execution_count": 13,
   "id": "597e2b00-b250-47ea-8484-77771f32f3b1",
   "metadata": {},
   "outputs": [
    {
     "name": "stdout",
     "output_type": "stream",
     "text": [
      "20\n"
     ]
    }
   ],
   "source": [
    "my_list = [10, 20, 30]\n",
    "print(my_list[1])  "
   ]
  },
  {
   "cell_type": "raw",
   "id": "9226fe87-8f43-43c6-9ba5-792253fa5bf5",
   "metadata": {},
   "source": [
    "Dictionary: Retrieve by key (label).\n",
    "Dictionaries provide more contextual access (e.g., \"name\", \"age\"), while lists rely on position.\n",
    "\n"
   ]
  },
  {
   "cell_type": "code",
   "execution_count": 14,
   "id": "f79fdf41-0124-4106-b510-30b6cef61956",
   "metadata": {},
   "outputs": [
    {
     "name": "stdout",
     "output_type": "stream",
     "text": [
      "20\n"
     ]
    }
   ],
   "source": [
    "my_dict = {\"a\": 10, \"b\": 20}\n",
    "print(my_dict[\"b\"]) "
   ]
  },
  {
   "cell_type": "raw",
   "id": "38dfe214-06f0-4ca2-bc12-1f774d9eb6a1",
   "metadata": {},
   "source": [
    "1. Write a code to create a string with your name and print it."
   ]
  },
  {
   "cell_type": "code",
   "execution_count": 15,
   "id": "629aae80-7605-4d10-824e-2118215bcfed",
   "metadata": {},
   "outputs": [
    {
     "name": "stdout",
     "output_type": "stream",
     "text": [
      "sahana haryadi\n"
     ]
    }
   ],
   "source": [
    "name = \"sahana haryadi\"\n",
    "print(name)\n"
   ]
  },
  {
   "cell_type": "raw",
   "id": "d5f938d5-d107-400e-b7ce-21f20f3310de",
   "metadata": {},
   "source": [
    "2. Write a code to find the length of the string \"Hello World\""
   ]
  },
  {
   "cell_type": "code",
   "execution_count": 16,
   "id": "dd684abd-9b52-4976-8db5-852f72e192c4",
   "metadata": {},
   "outputs": [
    {
     "name": "stdout",
     "output_type": "stream",
     "text": [
      "11\n"
     ]
    }
   ],
   "source": [
    "print(len(\"Hello World\"))\n"
   ]
  },
  {
   "cell_type": "raw",
   "id": "3732f644-193b-4bf8-8e62-903b65ff72b8",
   "metadata": {},
   "source": [
    "3. Write a code to slice the first 3 characters from the string \"Python] Programming\"."
   ]
  },
  {
   "cell_type": "code",
   "execution_count": 17,
   "id": "457155d5-7f31-443a-91c4-b5484c815e0b",
   "metadata": {},
   "outputs": [
    {
     "name": "stdout",
     "output_type": "stream",
     "text": [
      "Pyt\n"
     ]
    }
   ],
   "source": [
    "s = \"Python] Programming\"\n",
    "print(s[:3])\n"
   ]
  },
  {
   "cell_type": "raw",
   "id": "b67bc0bd-9870-4d8c-b743-4f23ca884467",
   "metadata": {},
   "source": [
    "4. Write a code to convert the string \"hello\" to uppercase."
   ]
  },
  {
   "cell_type": "code",
   "execution_count": 18,
   "id": "8d11c0c7-6945-4d15-a534-fc0d501acf18",
   "metadata": {},
   "outputs": [
    {
     "name": "stdout",
     "output_type": "stream",
     "text": [
      "HELLO\n"
     ]
    }
   ],
   "source": [
    "print(\"hello\".upper())\n"
   ]
  },
  {
   "cell_type": "raw",
   "id": "0d63c667-c8ac-452d-838e-9b8f23c00771",
   "metadata": {},
   "source": [
    "5. Write a code to replace the word \"apple\" with \"orange\" in the string \"I like apple\"."
   ]
  },
  {
   "cell_type": "code",
   "execution_count": 19,
   "id": "0f8593a5-f29d-4ead-aadb-d5b0541e6679",
   "metadata": {},
   "outputs": [
    {
     "name": "stdout",
     "output_type": "stream",
     "text": [
      "I like orange\n"
     ]
    }
   ],
   "source": [
    "print(\"I like apple\".replace(\"apple\", \"orange\"))\n"
   ]
  },
  {
   "cell_type": "raw",
   "id": "38208657-7af4-4016-891b-83c861a61041",
   "metadata": {},
   "source": [
    "6. Write a code to create a list with numbers 1 to 5 and print it."
   ]
  },
  {
   "cell_type": "code",
   "execution_count": 20,
   "id": "e3dd0607-4e75-4dfe-8921-5623d5779056",
   "metadata": {},
   "outputs": [
    {
     "name": "stdout",
     "output_type": "stream",
     "text": [
      "[1, 2, 3, 4, 5]\n"
     ]
    }
   ],
   "source": [
    "numbers = [1, 2, 3, 4, 5]\n",
    "print(numbers)\n"
   ]
  },
  {
   "cell_type": "raw",
   "id": "8993e3c3-bda5-41d1-9648-1dc2057d8195",
   "metadata": {},
   "source": [
    "7. Write a code to append the number 10 to the list [1, 2, 3, 4]."
   ]
  },
  {
   "cell_type": "code",
   "execution_count": 21,
   "id": "0dacd787-a3df-4154-8461-ffc0ddaa7dc8",
   "metadata": {},
   "outputs": [
    {
     "name": "stdout",
     "output_type": "stream",
     "text": [
      "[1, 2, 3, 4, 10]\n"
     ]
    }
   ],
   "source": [
    "lst = [1, 2, 3, 4]\n",
    "lst.append(10)\n",
    "print(lst)\n"
   ]
  },
  {
   "cell_type": "raw",
   "id": "1e0daa3d-2279-4b55-b8e3-a683d4cb1510",
   "metadata": {},
   "source": [
    "8. Write a code to remove the number 3 from the list [1, 2, 3, 4, 5]."
   ]
  },
  {
   "cell_type": "code",
   "execution_count": 22,
   "id": "4b7a940c-a834-40d7-b579-77cdc5722b74",
   "metadata": {},
   "outputs": [
    {
     "name": "stdout",
     "output_type": "stream",
     "text": [
      "[1, 2, 4, 5]\n"
     ]
    }
   ],
   "source": [
    "lst = [1, 2, 3, 4, 5]\n",
    "lst.remove(3)\n",
    "print(lst)\n"
   ]
  },
  {
   "cell_type": "raw",
   "id": "75c9d8b3-2916-4772-adf3-965c2f727728",
   "metadata": {},
   "source": [
    "9. Write a code to access the second element in the list ['a', 'b', 'c', 'd'].\n",
    "\n"
   ]
  },
  {
   "cell_type": "code",
   "execution_count": 23,
   "id": "23d919dd-1221-448c-92ae-1a9fb54e0d46",
   "metadata": {},
   "outputs": [
    {
     "name": "stdout",
     "output_type": "stream",
     "text": [
      "b\n"
     ]
    }
   ],
   "source": [
    "letters = ['a', 'b', 'c', 'd']\n",
    "print(letters[1])\n"
   ]
  },
  {
   "cell_type": "raw",
   "id": "2a5cb033-2602-4262-9015-45e58869495f",
   "metadata": {},
   "source": [
    "10. Write a code to reverse the list [10, 20, 30, 40, 50].\n",
    "\n"
   ]
  },
  {
   "cell_type": "code",
   "execution_count": 24,
   "id": "31f2cf94-dc22-4030-8029-ab32ebba472d",
   "metadata": {},
   "outputs": [
    {
     "name": "stdout",
     "output_type": "stream",
     "text": [
      "[50, 40, 30, 20, 10]\n"
     ]
    }
   ],
   "source": [
    "lst = [10, 20, 30, 40, 50]\n",
    "lst.reverse()\n",
    "print(lst)\n"
   ]
  },
  {
   "cell_type": "raw",
   "id": "4823eba6-28eb-4861-af74-af2383e736a0",
   "metadata": {},
   "source": [
    "11. Write a code to create a tuple with the elements 100, 200, 300 and print it."
   ]
  },
  {
   "cell_type": "code",
   "execution_count": 25,
   "id": "5443c075-138a-45b0-9276-dad80948ed8d",
   "metadata": {},
   "outputs": [
    {
     "name": "stdout",
     "output_type": "stream",
     "text": [
      "(100, 200, 300)\n"
     ]
    }
   ],
   "source": [
    "tpl = (100, 200, 300)\n",
    "print(tpl)\n"
   ]
  },
  {
   "cell_type": "raw",
   "id": "b0a66a83-0e3d-4510-8d47-acfd038647c5",
   "metadata": {},
   "source": [
    "12. Write a code to access the second-to-last element of the tuple ('red', 'green', 'blue', 'yellow').\n",
    "\n"
   ]
  },
  {
   "cell_type": "code",
   "execution_count": 26,
   "id": "493cf0f8-0b2b-4c1b-bf96-0ffb8fa71a2c",
   "metadata": {},
   "outputs": [
    {
     "name": "stdout",
     "output_type": "stream",
     "text": [
      "blue\n"
     ]
    }
   ],
   "source": [
    "colors = ('red', 'green', 'blue', 'yellow')\n",
    "print(colors[-2])\n"
   ]
  },
  {
   "cell_type": "raw",
   "id": "6e5ea629-f7a4-4500-adb4-f043e33f9a24",
   "metadata": {},
   "source": [
    "13. Write a code to find the minimum number in the tuple (10, 20, 5, 15).\n",
    "\n"
   ]
  },
  {
   "cell_type": "code",
   "execution_count": 27,
   "id": "6da917a0-092a-400f-a994-0c9f6987dc37",
   "metadata": {},
   "outputs": [
    {
     "name": "stdout",
     "output_type": "stream",
     "text": [
      "5\n"
     ]
    }
   ],
   "source": [
    "tpl = (10, 20, 5, 15)\n",
    "print(min(tpl)) \n"
   ]
  },
  {
   "cell_type": "raw",
   "id": "d5105570-b645-4f4d-b50c-638d888fcabc",
   "metadata": {},
   "source": [
    "14. Write a code to find the index of the element \"cat\" in the tuple ('dog', 'cat', 'rabbit')."
   ]
  },
  {
   "cell_type": "code",
   "execution_count": 28,
   "id": "d4c1ad8f-20bc-4e3d-9d92-1ea556a817a8",
   "metadata": {},
   "outputs": [
    {
     "name": "stdout",
     "output_type": "stream",
     "text": [
      "1\n"
     ]
    }
   ],
   "source": [
    "animals = ('dog', 'cat', 'rabbit')\n",
    "print(animals.index(\"cat\"))\n"
   ]
  },
  {
   "cell_type": "raw",
   "id": "cd5d897d-e2bc-48f7-9ad0-f7b65a9980e7",
   "metadata": {},
   "source": [
    "15. Write a code to create a tuple containing three different fruits and check if \"kiwi\" is in it."
   ]
  },
  {
   "cell_type": "code",
   "execution_count": 29,
   "id": "6c71aaa2-a686-46e5-8288-633577e7e9a5",
   "metadata": {},
   "outputs": [
    {
     "name": "stdout",
     "output_type": "stream",
     "text": [
      "False\n"
     ]
    }
   ],
   "source": [
    "fruits = (\"apple\", \"banana\", \"cherry\")\n",
    "print(\"kiwi\" in fruits)\n"
   ]
  },
  {
   "cell_type": "raw",
   "id": "817013e0-9c63-480a-9e09-5956c92f8a50",
   "metadata": {},
   "source": [
    "16. Write a code to create a set with the elements 'a', 'b', 'c' and print it.\n",
    "\n"
   ]
  },
  {
   "cell_type": "code",
   "execution_count": 30,
   "id": "3b86f102-342d-4e81-a483-ad35ba5a15b4",
   "metadata": {},
   "outputs": [
    {
     "name": "stdout",
     "output_type": "stream",
     "text": [
      "{'a', 'c', 'b'}\n"
     ]
    }
   ],
   "source": [
    "my_set = {'a', 'b', 'c'}\n",
    "print(my_set)\n"
   ]
  },
  {
   "cell_type": "raw",
   "id": "45ee24a2-2e41-4acc-a5aa-0ef040f10028",
   "metadata": {},
   "source": [
    "17. Write a code to clear all elements from the set {1, 2, 3, 4, 5}."
   ]
  },
  {
   "cell_type": "code",
   "execution_count": 31,
   "id": "7ea919f0-ead3-4c2d-b564-190e6e33e50e",
   "metadata": {},
   "outputs": [
    {
     "name": "stdout",
     "output_type": "stream",
     "text": [
      "set()\n"
     ]
    }
   ],
   "source": [
    "my_set = {1, 2, 3, 4, 5}\n",
    "my_set.clear()\n",
    "print(my_set)\n"
   ]
  },
  {
   "cell_type": "raw",
   "id": "ccec1a7a-0dda-4a9f-8dbc-c5b573b45d16",
   "metadata": {},
   "source": [
    "18. Write a code to remove the element 4 from the set {1, 2, 3, 4}.\n"
   ]
  },
  {
   "cell_type": "code",
   "execution_count": 32,
   "id": "17d9e48c-53f3-402b-bdc4-47a37a38ccf2",
   "metadata": {},
   "outputs": [
    {
     "name": "stdout",
     "output_type": "stream",
     "text": [
      "{1, 2, 3}\n"
     ]
    }
   ],
   "source": [
    "my_set = {1, 2, 3, 4}\n",
    "my_set.remove(4)\n",
    "print(my_set)\n"
   ]
  },
  {
   "cell_type": "raw",
   "id": "e9dea2b7-64b1-468a-b140-5227c90c6d7e",
   "metadata": {},
   "source": [
    "19. Write a code to find the union of two sets {1, 2, 3} and {3, 4, 5}."
   ]
  },
  {
   "cell_type": "code",
   "execution_count": 33,
   "id": "65141fa8-e743-4480-9a3d-419e9ce47f6e",
   "metadata": {},
   "outputs": [
    {
     "name": "stdout",
     "output_type": "stream",
     "text": [
      "{1, 2, 3, 4, 5}\n"
     ]
    }
   ],
   "source": [
    "set1 = {1, 2, 3}\n",
    "set2 = {3, 4, 5}\n",
    "print(set1.union(set2))\n"
   ]
  },
  {
   "cell_type": "raw",
   "id": "929388bd-656d-4b24-bcd3-fdf12f62a2d2",
   "metadata": {},
   "source": [
    "20. Write a code to find the intersection of two sets {1, 2, 3} and {2, 3, 4}."
   ]
  },
  {
   "cell_type": "code",
   "execution_count": 34,
   "id": "2a4e4a03-a964-4dfc-a858-f558d4246221",
   "metadata": {},
   "outputs": [
    {
     "name": "stdout",
     "output_type": "stream",
     "text": [
      "{2, 3}\n"
     ]
    }
   ],
   "source": [
    "set1 = {1, 2, 3}\n",
    "set2 = {2, 3, 4}\n",
    "print(set1.intersection(set2))\n"
   ]
  },
  {
   "cell_type": "raw",
   "id": "460c5fed-df91-4e07-ae8a-6029d14d9c57",
   "metadata": {},
   "source": [
    "21. Write a code to create a dictionary with the keys \"name\", \"age\", and \"city\", and print it."
   ]
  },
  {
   "cell_type": "code",
   "execution_count": 35,
   "id": "d60a85b8-8946-44c5-8082-a2d848bcee6d",
   "metadata": {},
   "outputs": [
    {
     "name": "stdout",
     "output_type": "stream",
     "text": [
      "{'name': 'pulla', 'age': 39, 'city': 'New York'}\n"
     ]
    }
   ],
   "source": [
    "person = {\"name\": \"pulla\", \"age\": 39, \"city\": \"New York\"}\n",
    "print(person)\n"
   ]
  },
  {
   "cell_type": "raw",
   "id": "3d83bf72-6ec3-48a3-87da-1d532ca7f3cc",
   "metadata": {},
   "source": [
    "22. Write a code to add a new key-value pair \"country\": \"USA\" to the dictionary {'name': 'John', 'age': 25}."
   ]
  },
  {
   "cell_type": "code",
   "execution_count": 36,
   "id": "fe2b5a38-54ac-441d-beb8-03cf596e0be9",
   "metadata": {},
   "outputs": [
    {
     "name": "stdout",
     "output_type": "stream",
     "text": [
      "{'name': 'John', 'age': 25, 'country': 'USA'}\n"
     ]
    }
   ],
   "source": [
    "person = {\"name\": \"John\", \"age\": 25}\n",
    "person[\"country\"] = \"USA\"\n",
    "print(person)\n"
   ]
  },
  {
   "cell_type": "raw",
   "id": "008107fc-4d92-44a3-8165-24f94982a403",
   "metadata": {},
   "source": [
    "23. Write a code to access the value associated with the key \"name\" in the dictionary {'name': 'Alice', 'age': 30}."
   ]
  },
  {
   "cell_type": "code",
   "execution_count": 37,
   "id": "094490c2-a2f7-41d6-87ab-d1b8d17a389e",
   "metadata": {},
   "outputs": [
    {
     "name": "stdout",
     "output_type": "stream",
     "text": [
      "Alice\n"
     ]
    }
   ],
   "source": [
    "person = {\"name\": \"Alice\", \"age\": 30}\n",
    "print(person[\"name\"])\n"
   ]
  },
  {
   "cell_type": "raw",
   "id": "55223eb5-6277-4406-b815-b809eeba6889",
   "metadata": {},
   "source": [
    "24. Write a code to remove the key \"age\" from the dictionary {'name': 'Bob', 'age': 22, 'city': 'New York'}."
   ]
  },
  {
   "cell_type": "code",
   "execution_count": 42,
   "id": "46d3089b-5bfc-468b-b4ab-0ff8ec2ce44b",
   "metadata": {},
   "outputs": [
    {
     "name": "stdout",
     "output_type": "stream",
     "text": [
      "{'name': 'Bob', 'city': 'New York'}\n"
     ]
    }
   ],
   "source": [
    "person = {\"name\": \"Bob\", \"age\": 22, \"city\": \"New York\"}\n",
    "del person[\"age\"]\n",
    "print(person)\n"
   ]
  },
  {
   "cell_type": "raw",
   "id": "a70128f3-405d-4071-927f-28187d1b7097",
   "metadata": {},
   "source": [
    "25. Write a code to check if the key \"city\" exists in the dictionary {'name': 'Alice', 'city': 'Paris'}."
   ]
  },
  {
   "cell_type": "code",
   "execution_count": 39,
   "id": "44288e09-26fe-400a-a9c9-6c5b490fd1d1",
   "metadata": {},
   "outputs": [
    {
     "name": "stdout",
     "output_type": "stream",
     "text": [
      "True\n"
     ]
    }
   ],
   "source": [
    "person = {\"name\": \"Alice\", \"city\": \"Paris\"}\n",
    "print(\"city\" in person)\n"
   ]
  },
  {
   "cell_type": "raw",
   "id": "62f49a3c-79d2-4fed-80e2-644c30a8d0ec",
   "metadata": {},
   "source": [
    "26. Write a code to create a list, a tuple, and a dictionary, and print them all.\n",
    "\n"
   ]
  },
  {
   "cell_type": "code",
   "execution_count": 40,
   "id": "ad940e3b-16e5-40d0-a531-95c5c8ea839a",
   "metadata": {},
   "outputs": [
    {
     "name": "stdout",
     "output_type": "stream",
     "text": [
      "[1, 2, 3]\n",
      "(4, 5, 6)\n",
      "{'a': 1, 'b': 2}\n"
     ]
    }
   ],
   "source": [
    "my_list = [1, 2, 3]\n",
    "my_tuple = (4, 5, 6)\n",
    "my_dict = {\"a\": 1, \"b\": 2}\n",
    "print(my_list)\n",
    "print(my_tuple)\n",
    "print(my_dict)\n"
   ]
  },
  {
   "cell_type": "raw",
   "id": "96356292-778e-489d-8368-468c10ea5567",
   "metadata": {},
   "source": [
    "27. Write a code to create a list of 5 random numbers between 1 and 100, sort it in ascending order, and print the result."
   ]
  },
  {
   "cell_type": "code",
   "execution_count": 43,
   "id": "e8e6db07-17ce-4285-9ecc-ae40a9b5c953",
   "metadata": {},
   "outputs": [
    {
     "name": "stdout",
     "output_type": "stream",
     "text": [
      "[26, 29, 38, 75, 94]\n"
     ]
    }
   ],
   "source": [
    "import random\n",
    "rand_list = [random.randint(1, 100) for _ in range(5)]\n",
    "rand_list.sort()\n",
    "print(rand_list)\n"
   ]
  },
  {
   "cell_type": "raw",
   "id": "691da2dc-acbe-4f33-8af7-a899afbe02c6",
   "metadata": {},
   "source": [
    "28. Write a code to create a list with strings and print the element at the third index."
   ]
  },
  {
   "cell_type": "code",
   "execution_count": 44,
   "id": "861af76c-dad4-44af-87b2-7e45e18966bf",
   "metadata": {},
   "outputs": [
    {
     "name": "stdout",
     "output_type": "stream",
     "text": [
      "date\n"
     ]
    }
   ],
   "source": [
    "words = [\"apple\", \"banana\", \"cherry\", \"date\", \"elderberry\"]\n",
    "print(words[3])\n"
   ]
  },
  {
   "cell_type": "raw",
   "id": "50fc5ed7-2aba-441e-93a5-ec29df096377",
   "metadata": {},
   "source": [
    "29. Write a code to combine two dictionaries into one and print the result."
   ]
  },
  {
   "cell_type": "code",
   "execution_count": null,
   "id": "4e3768df-5f67-47d8-8c78-2bc36ed2432f",
   "metadata": {},
   "outputs": [],
   "source": [
    "dict1 = {\"a\": 1, \"b\": 2}\n",
    "dict2 = {\"c\": 3, \"d\": 4}\n",
    "combined = {**dict1, **dict2}\n",
    "print(combined)\n"
   ]
  },
  {
   "cell_type": "raw",
   "id": "43b4b62c-0b48-4479-a8bc-9ada4dc4acef",
   "metadata": {},
   "source": [
    "30. Write a code to convert a list of strings into a set."
   ]
  },
  {
   "cell_type": "code",
   "execution_count": null,
   "id": "edb07f46-bd50-4fe2-b572-95defc73281a",
   "metadata": {},
   "outputs": [],
   "source": [
    "string_list = [\"apple\", \"banana\", \"cherry\", \"apple\"]\n",
    "string_set = set(string_list)\n",
    "print(string_set)\n"
   ]
  }
 ],
 "metadata": {
  "kernelspec": {
   "display_name": "Python 3 (ipykernel)",
   "language": "python",
   "name": "python3"
  },
  "language_info": {
   "codemirror_mode": {
    "name": "ipython",
    "version": 3
   },
   "file_extension": ".py",
   "mimetype": "text/x-python",
   "name": "python",
   "nbconvert_exporter": "python",
   "pygments_lexer": "ipython3",
   "version": "3.12.7"
  }
 },
 "nbformat": 4,
 "nbformat_minor": 5
}
